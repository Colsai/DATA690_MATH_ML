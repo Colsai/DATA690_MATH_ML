{
  "nbformat": 4,
  "nbformat_minor": 0,
  "metadata": {
    "colab": {
      "name": "Prj_2_PCA.ipynb",
      "provenance": [],
      "collapsed_sections": []
    },
    "kernelspec": {
      "name": "python3",
      "display_name": "Python 3"
    },
    "language_info": {
      "name": "python"
    }
  },
  "cells": [
    {
      "cell_type": "markdown",
      "metadata": {
        "id": "IHT3x72K3p60"
      },
      "source": [
        "# DATA690 MATH: \n",
        "## Project 2 Notebook: PCA\n",
        "## Barker French, Shaimar Gonzales, Scott Hirabayashi"
      ]
    },
    {
      "cell_type": "markdown",
      "metadata": {
        "id": "SSRAUksrecXq"
      },
      "source": [
        "Class Notes-\n",
        "- https://colab.research.google.com/drive/1IQ99X-o2nsIAs5oqkqo_-3NEfg9kTl-s?authuser=2\n",
        "\n",
        "- https://docs.google.com/document/d/1B5p0LMuLAwhF21ZfKw5UpkKU2aLghvI4FGOLyMpzNhw/edit"
      ]
    },
    {
      "cell_type": "markdown",
      "metadata": {
        "id": "wqRR_-uoH7KU"
      },
      "source": [
        "## Project  2.  Principal  Component  Analysis\n",
        "### Assigned on Nov 1, 2021; Due on Nov 19, 2021\n",
        "**Disclosure:** This is a graded project. Groups will be assigned. If you opt out to work alone, please let me and your group members know. Please refer to the code of conduct. \n",
        "\n",
        "- In this project, you are expected to replicate principal component analysis: an unsupervised machine learning method to reduce feature dimensions for efficient ML practice. \n",
        "\n",
        "- The only Python package that you are allowed to use is NumPy."
      ]
    },
    {
      "cell_type": "markdown",
      "metadata": {
        "id": "BX2QOXV-IHwt"
      },
      "source": [
        "## Input/Output\n",
        "- You will be given randomly generated datasets with many (k) features and N observations.\n",
        "\n",
        "- You are expected to deliver output that has m features, with m < k, and m should be a direct input from users of your function; or computed from the other user input: Variation Retainment. Variation Retainment will override the input m. (see below for details)\n",
        "\n",
        "### Functionalities\n",
        "Define your own helper functions to... (10pt)\n",
        "- Determine the dimensionality of the data (done)\n",
        "- Check if your matrices are invertible (done)\n",
        "- You can use this data set for testing (USING)\n",
        "\n",
        "### Grading Rubric:\n",
        "- Functionality to normalize your data (use minmax here) 10pt (have)\n",
        "- Functionality to compute eigenvectors and eigenvalues: 10pt (have)\n",
        "- Functionality to select the m principal components: 10pt (have)\n",
        "- If user inputs m = m and no var_retain: set m = m (OK)\n",
        "- If user inputs var_retain, compute m to match the variation retainment of the data (OK)\n",
        "\n",
        "### Functionality to project the data using the principal components 20pt\n",
        "Your general pipeline: 10pt  \n",
        "- Raw data -> Normalization -> PCA -> PCA projected data (OK)\n",
        "- Given a y-column, use the linear regression pipeline you built in Project 1 (OK)\n",
        "- Separately fit y using Raw data and PCA projected data 20pt (DONE)\n",
        "- You need to compare the prediction losses to select a model 10pts (DOME)\n",
        "\n",
        "### Bonus:\n",
        "- Pack all your functions and pipeline into a Python object 10pt (DONE)\n",
        "- Set up unit tests for your pipeline (DID NOT DO)\n"
      ]
    },
    {
      "cell_type": "code",
      "metadata": {
        "id": "GJcHwEps3nAO"
      },
      "source": [
        "#Import and use Numpy\n",
        "import pandas as pd \n",
        "import numpy as np\n",
        "import random\n",
        "import time"
      ],
      "execution_count": null,
      "outputs": []
    },
    {
      "cell_type": "code",
      "metadata": {
        "id": "RQWMpbzvK5fu",
        "colab": {
          "base_uri": "https://localhost:8080/"
        },
        "outputId": "9ffb77ec-4fc6-4020-8931-b08befdd54ed"
      },
      "source": [
        "#Select Data\n",
        "site = 'https://archive.ics.uci.edu/ml/machine-learning-databases/00211/CommViolPredUnnormalizedData.txt'\n",
        "df = pd.read_csv(site, header = None)\n",
        "\n",
        "df.dtypes.value_counts()"
      ],
      "execution_count": null,
      "outputs": [
        {
          "output_type": "execute_result",
          "data": {
            "text/plain": [
              "float64    75\n",
              "object     43\n",
              "int64      29\n",
              "dtype: int64"
            ]
          },
          "metadata": {},
          "execution_count": 349
        }
      ]
    },
    {
      "cell_type": "code",
      "metadata": {
        "colab": {
          "base_uri": "https://localhost:8080/"
        },
        "id": "57hVksUliT3K",
        "outputId": "e7ebddff-897a-478b-c87b-96392f1f1ef7"
      },
      "source": [
        "df.isna().sum().value_counts()"
      ],
      "execution_count": null,
      "outputs": [
        {
          "output_type": "execute_result",
          "data": {
            "text/plain": [
              "0    147\n",
              "dtype: int64"
            ]
          },
          "metadata": {},
          "execution_count": 350
        }
      ]
    },
    {
      "cell_type": "code",
      "metadata": {
        "id": "xF9W-mcqMIcY"
      },
      "source": [
        "#Test dataset-- Include only Int Variable Columns\n",
        "sample_dataset = df[df.select_dtypes(include=['int64']).columns]\n",
        "test_dataset = sample_dataset[sample_dataset.columns[0:10]]\n",
        "test_target = df[127]\n",
        "\n",
        "sample_dataset = sample_dataset.to_numpy()\n",
        "test_dataset = test_dataset.to_numpy()\n",
        "test_target = test_target.to_numpy()"
      ],
      "execution_count": null,
      "outputs": []
    },
    {
      "cell_type": "code",
      "metadata": {
        "colab": {
          "base_uri": "https://localhost:8080/"
        },
        "id": "LRPf2L3FOeLE",
        "outputId": "c5d10d77-49b7-4925-961d-ca8994d7f0fc"
      },
      "source": [
        "test_dataset"
      ],
      "execution_count": null,
      "outputs": [
        {
          "output_type": "execute_result",
          "data": {
            "text/plain": [
              "array([[    1, 11980, 11980, ..., 13600,  5725, 27101],\n",
              "       [    1, 23123, 23123, ..., 18137,     0, 20074],\n",
              "       [    1, 29344, 29344, ..., 16644, 21606, 15528],\n",
              "       ...,\n",
              "       [   10, 32824, 32824, ..., 13630, 13197, 17313],\n",
              "       [   10, 13547,     0, ...,  6437,  8271,   171],\n",
              "       [   10, 28898, 28664, ...,  8163,  9874,  6827]])"
            ]
          },
          "metadata": {},
          "execution_count": 352
        }
      ]
    },
    {
      "cell_type": "code",
      "metadata": {
        "colab": {
          "base_uri": "https://localhost:8080/"
        },
        "id": "1SzNDqudOAzv",
        "outputId": "0e59afd0-d99b-4835-eded-bc25a1e0035b"
      },
      "source": [
        "test_target"
      ],
      "execution_count": null,
      "outputs": [
        {
          "output_type": "execute_result",
          "data": {
            "text/plain": [
              "array([0., 0., 0., ..., 0., 0., 0.])"
            ]
          },
          "metadata": {},
          "execution_count": 353
        }
      ]
    },
    {
      "cell_type": "code",
      "metadata": {
        "id": "KUjeyYDd3pA9"
      },
      "source": [
        "############################### \n",
        "#PCA Function                 #\n",
        "###############################\n",
        "class PCA_redux(object):\n",
        "    def __init__(self, arry_):  \n",
        "    #Set stored variable 'arry_'    \n",
        "        self.arry_ = arry_\n",
        "\n",
        "        #Normalize and add ones as norm_x\n",
        "        norm_x = self.normalize_x()\n",
        "        self.norm_x = np.hstack((np.ones(shape=(len(norm_x),1)), norm_x))\n",
        "\n",
        "        #Get Principal Components\n",
        "        self.get_PC()\n",
        "\n",
        "        #Error Flag\n",
        "        self.cannot_run = False\n",
        "        \n",
        "#CHECK DIMENSIONS\n",
        "    def dim(self) -> np.array:\n",
        "        \"\"\"Return dimensions of the numpy array\"\"\"\n",
        "        return self.arry_.shape\n",
        "\n",
        "#CHECK INVERTIBLITY\n",
        "    def invertible(self) -> str:\n",
        "        \"\"\"Check for invertibility by determinant of normed X\"\"\"\n",
        "        norm_arry_ = self.norm_x\n",
        "        \n",
        "        #DE-MEAN THE NORMED X\n",
        "        norm_dmnd = norm_arry_ - norm_arry_.mean(axis = 0)\n",
        "        det = np.linalg.det(np.dot(norm_dmnd.T, norm_dmnd))\n",
        "\n",
        "        #Return invertibility  \n",
        "        if det == 0:\n",
        "            print(f\"det(X'*X) = 0 | Not Invertible\")\n",
        "        else:\n",
        "            print(f\"det(X'*X)= {det} | Invertible\")\n",
        "\n",
        "#NORMALIZE X                \n",
        "    def normalize_x(self)-> np.array:\n",
        "        \"\"\"Normalize the array (minmax)\"\"\"\n",
        "        column_min, column_max = self.arry_.min(axis=0), self.arry_.max(axis=0)\n",
        "        return abs((self.arry_-column_min)/(column_min - column_max))\n",
        "\n",
        "############################### \n",
        "#CHECK DATA & SELECT PCA NUM  #\n",
        "###############################\n",
        "    def initial_check(self) -> str:\n",
        "        \"\"\"Run an initial check of the data and invertibility; print basic info\"\"\"\n",
        "        print(\"*****\"*10)\n",
        "        print(f\"Original Dataset Dimensions: {self.dim()}\")\n",
        "  \n",
        "        #CHECK INVERTIBILITY\n",
        "        self.invertible()\n",
        "        print(\"*****\"*10)\n",
        "\n",
        "        #Return a message if there is a data issue.\n",
        "        if self.cannot_run == True:\n",
        "            print(\"Data condition not ready for PCA.\") #changed return to print as the use won't do anything with the text\n",
        "            return False\n",
        "        \n",
        "        #Return a message if the data is OK.\n",
        "        else:\n",
        "            return True\n",
        "############################### \n",
        "#Covar/Eigenvals&Vecs         #\n",
        "###############################\n",
        "    #COVARIANCE FUNCTION\n",
        "    def covar(self, data_) -> np.array:\n",
        "        \"\"\"Covariance Function that takes data and returns covariance\"\"\"\n",
        "        covar_ = np.dot((data_ - data_.mean(axis = 0)).T,\n",
        "                      (data_ - data_.mean(axis = 0)))/len(data_)\n",
        "        return covar_\n",
        "\n",
        "    #GET PRINCIPAL COMPONENTS (EIGENVAL/EIGENVEC)\n",
        "    def get_PC(self) -> np.array:\n",
        "        \"\"\"Principal Components Function that returns eigenvalues and eigenvectors\"\"\"\n",
        "        data_ = self.norm_x\n",
        "        cov = self.covar(data_)\n",
        "\n",
        "        self.eigval, self.eigvec = np.linalg.eig(cov)\n",
        "        self.eig_pairs = np.linalg.eig(cov)\n",
        "\n",
        "        return self.eigval, self.eigvec\n",
        "\n",
        "    #RETURNS ARRAY OF FEATURE IMPORTANCE\n",
        "    def ret_ordered_features(self) -> np.array:\n",
        "        \"\"\"Returns an array of ordered percents\"\"\"\n",
        "        ret_percents = np.cumsum(self.eigval[np.argsort(self.eigval)[::-1]]/self.eigval.sum() * 100)\n",
        "        return ret_percents\n",
        "\n",
        "    #RETURNS THE INDEX OF A PERCENTAGE VALUE ENTERED BY THE USER\n",
        "    def ret_percent_index(self, thresh = 100) -> np.array:\n",
        "        \"\"\"Returns the number of columns to hit % threshold\"\"\"\n",
        "        sorted_vecs = np.argsort(self.eigval)\n",
        "        vec_mags = np.cumsum(self.eigval[np.argsort(self.eigval)[::-1]]/self.eigval.sum() * 100)\n",
        "        keep_cols = 0\n",
        "\n",
        "    #RETURNS INDEX VALUE FOR WHEN THRESHOLD IS MET\n",
        "        for indx_, elem in enumerate(vec_mags):\n",
        "            if elem <= thresh:\n",
        "                print(indx_)\n",
        "            else:               \n",
        "                keep_cols = indx_\n",
        "                break\n",
        "\n",
        "        print(vec_mags)\n",
        "        return keep_cols\n",
        "    \n",
        "    #COMBINES THE TWO\n",
        "    def ret_compare_index(self, k = 1, thresh = 100) -> int:\n",
        "        \"\"\"Full function for returning the number of eigenvectors\"\"\"\n",
        "        pct_features = 0\n",
        "\n",
        "        sorted_vecs = np.argsort(self.eigval)\n",
        "        vec_mags = np.cumsum(self.eigval[np.argsort(self.eigval)[::-1]]/self.eigval.sum() * 100)\n",
        "        ret_features_pca = np.argsort(self.eigval)\n",
        "\n",
        "        for indx_, elem in enumerate(vec_mags):\n",
        "            if elem <= thresh:\n",
        "                continue\n",
        "            else:               \n",
        "                pct_features = indx_\n",
        "                break\n",
        "                    \n",
        "    #Keep the highest number of features to capture the variance\n",
        "        if pct_features >= k:\n",
        "            self.keep_features = pct_features\n",
        "            return pct_features\n",
        "        else:\n",
        "            self.keep_features = k\n",
        "            return k\n",
        "############################### \n",
        "#Run PCA|Return Prjtd Ftrs    #\n",
        "###############################\n",
        "    #Create Projection Matrix\n",
        "    def create_projection_matrix(self, n = 2) -> np.array:\n",
        "        \"\"\"Creates a projection transposed matrix, and transposes again for prjmatrx\"\"\"\n",
        "        projection_matrix = (self.eigvec.T[:][:n]).T\n",
        "        self.projection_matrix = projection_matrix\n",
        "        return projection_matrix \n",
        "\n",
        "    #Project Data\n",
        "    def project_data(self) -> np.array:\n",
        "        \"\"\"Projects the data onto projection matrix for new data\"\"\"\n",
        "        return np.dot(self.norm_x, self.projection_matrix)\n",
        "\n",
        "    def run_pca(self, sel_features = 1, capture_pct = 100) -> np.array:\n",
        "        \"\"\"Full function run, it initializes a check, then runs features\"\"\"\n",
        "                \n",
        "        #Create Projected Features\n",
        "        sel_features = self.ret_compare_index(k = sel_features, thresh = capture_pct)\n",
        "        self.create_projection_matrix(n = sel_features)\n",
        "        pca_matrix = self.project_data()\n",
        "\n",
        "        #Return pca_matrix\n",
        "        self.pca_matrix = pca_matrix\n",
        "        return pca_matrix\n",
        "    \n",
        "    def run_pca_report(self, sel_features = 1, capture_pct = 100) -> np.array:\n",
        "        \"\"\"Creates an in-depth report of the PCA data itself.\"\"\"\n",
        "        self.initial_check()    \n",
        "        \n",
        "        #Create Projected Features\n",
        "        sel_features = self.ret_compare_index(k = sel_features, thresh = capture_pct)\n",
        "        self.create_projection_matrix(n = sel_features)\n",
        "        pca_matrix = self.project_data()\n",
        "        \n",
        "        #Print Statements for Outputs\n",
        "        print(f\"{sel_features} features selected. New Matrix= {pca_matrix.shape}.\")\n",
        "        print(\"*****\"*10)\n",
        "\n",
        "        #Return pca_matrix\n",
        "        self.pca_matrix = pca_matrix\n",
        "        time.sleep(5)\n",
        "        return pca_matrix\n",
        "\n",
        "###########################\n",
        "# Linear Regression Class #\n",
        "###########################\n",
        "class linear_reg(object):\n",
        "    #Initialize with input array, target, features\n",
        "    def __init__(self, arry_, target_):\n",
        "        self.arry_ = arry_ #Input Array\n",
        "        self.target_ = target_ #Target Feature\n",
        "        self.features_ = arry_.shape[1] #Number of Features/Variables\n",
        "        \n",
        "        #Flag if issue with running. 0 if can rn, 1 if cannot run\n",
        "        self.cannot_run = 0\n",
        "\n",
        "    # a. Return data dimensions        \n",
        "    def dim(self):\n",
        "        \"\"\"Return Data Dimensions\"\"\"\n",
        "        print(\"Data Shape:\",self.arry_.shape, self.target_.shape)\n",
        "        return self.arry_.shape\n",
        "\n",
        "    # b. Return Data Check\n",
        "    def data_check(self):\n",
        "        \"\"\"Return Data Check\"\"\"\n",
        "    # if the number of observations is less than the number of parameters (bad)\n",
        "        if (self.arry_.shape[0] < self.features_): \n",
        "            self.cannot_run = 1\n",
        "            print(\"Data = False: Not enough data for modeling with OLS.\")\n",
        "\n",
        "    # Number of observations is greater than the number of parameters (good)\n",
        "        else: \n",
        "            self.cannot_run = 0\n",
        "            print(\"Data = True: Enough data for modeling with OLS.\")\n",
        "           \n",
        "#############################\n",
        "# a. Min/Max Normalization  #\n",
        "#############################\n",
        "    def normalize_x(self) -> np.array:\n",
        "        \"\"\"Normalization function for X\"\"\"\n",
        "        x = self.arry_\n",
        "        x_norm = np.zeros(shape=x.shape)\n",
        "        n = self.arry_.shape[1]\n",
        "\n",
        "        for j in range (1, n + 1):\n",
        "            xj_min = min(x[:, j-1])\n",
        "            xj_max = max(x[:, j-1])\n",
        "            \n",
        "            for i in range(1,n+1):\n",
        "                x_norm[i-1,j-1] = (x[i-1,j-1] - xj_min) / (xj_max  - xj_min)\n",
        "\n",
        "        #Save x_norm\n",
        "        self.x_norm = x_norm\n",
        "\n",
        "        #Return x_norm\n",
        "        return x_norm\n",
        "\n",
        "######################################\n",
        "# b. Min/Max Normalization of Matrix #\n",
        "######################################\n",
        "    #Compute Big X\n",
        "    def big_x(self, normlze = True) -> np.array:\n",
        "        \"\"\"Create big x\"\"\"\n",
        "        if normlze == True:\n",
        "            x = self.normalize_x()\n",
        "        else:\n",
        "            x = self.arry_\n",
        "\n",
        "        n = self.arry_.shape[0]\n",
        "        ones = np.ones(shape = (n,1))\n",
        "        X = np.hstack((ones, x))\n",
        "        self.X = X\n",
        "\n",
        "        return self.X\n",
        "\n",
        "    #e. Check if Invertible\n",
        "    def invertible(self):\n",
        "        \"\"\"Check for invertibility\"\"\"\n",
        "        X = self.arry_\n",
        "        \n",
        "        if (np.linalg.det(np.dot(X.T,X)) == 0):\n",
        "            self.cannot_run = 1\n",
        "            print(\"Invertible = False:\",\"det(X'*X) = 0.\")\n",
        "            \n",
        "        else:\n",
        "            self.cannot_run = 0\n",
        "            print(\"Invertible = True:\",\"det(X'*X) =\", np.linalg.det(np.dot(X.T,X)))\n",
        "            \n",
        "\n",
        "    #f. collinearity\n",
        "    def collinearity(self):\n",
        "        \"\"\"Check for collinearity\"\"\"\n",
        "        X = self.arry_\n",
        "        k = self.features_\n",
        "\n",
        "        r = np.linalg.matrix_rank(np.dot(X.T,X))\n",
        "\n",
        "        if (r == (k+1)):\n",
        "            print(\"X'*X is a full rank matrix and is invertible. Just another way to check invertibility.\")\n",
        "\n",
        "        else:\n",
        "            if (r == 1):\n",
        "                print(\"Collinearity = True:\",\"Perfect collinearity in X.\")\n",
        "                #self.cannot_run == 1\n",
        "\n",
        "            else:\n",
        "                print(\"Collinearity = False:\", \"No collinearity in X.\")\n",
        "                #print(\"X is collinearity. Not enough data.\")\n",
        "                #self.cannot_run == 0\n",
        "\n",
        "#############################\n",
        "# d. Linear Regression      #\n",
        "#############################\n",
        "    def check_all(self) -> str:\n",
        "        \"\"\"Check all three data checks\"\"\"\n",
        "        #Run the three checks for data\n",
        "        self.data_check()\n",
        "        self.invertible()\n",
        "        self.collinearity()\n",
        "        \n",
        "        #Return a message if there is a data issue.\n",
        "        if self.cannot_run == 1:\n",
        "            print(\"Data condition not ready for OLS.\") #changed return to print as the use won't do anything with the text\n",
        "            return False\n",
        "        \n",
        "        #Return a message if the data is OK.\n",
        "        else:\n",
        "            return True\n",
        "\n",
        "    def run_regression(self) -> list:\n",
        "        \"\"\"Run Regression Function\"\"\"\n",
        "        #Stop function from returning a value if there is an issue.\n",
        "        if self.cannot_run == 1:\n",
        "            return []\n",
        "\n",
        "        else:\n",
        "            #Normalize for linear regression          \n",
        "            X = self.big_x(normlze=True)\n",
        "            y = self.target_\n",
        "\n",
        "            ones = np.ones(shape = (len(self.arry_),1))\n",
        "            self.X = np.hstack((ones, self.arry_))\n",
        "            \n",
        "            #Compute Coefficients\n",
        "            beta = np.dot(np.linalg.inv(np.dot(self.X.T, self.X)), np.dot(self.X.T, y))\n",
        "\n",
        "            results = beta.reshape(1,-1).tolist()[0]\n",
        "            \n",
        "            #Return Coefficients\n",
        "            return results"
      ],
      "execution_count": null,
      "outputs": []
    },
    {
      "cell_type": "markdown",
      "metadata": {
        "id": "M1Hg-0DVZ6CN"
      },
      "source": [
        "## References\n",
        "References-\n",
        "https://dev.to/akaame/implementing-simple-pca-using-numpy-3k0a\n",
        "\n",
        "https://stackoverflow.com/questions/36771525/python-pca-projection-into-lower-dimensional-space"
      ]
    },
    {
      "cell_type": "markdown",
      "metadata": {
        "id": "yed6XJDgTqci"
      },
      "source": [
        "## Testing Data\n",
        "Check documentation of comments, check components, etc."
      ]
    },
    {
      "cell_type": "code",
      "metadata": {
        "colab": {
          "base_uri": "https://localhost:8080/"
        },
        "id": "dGeYY5WSHfdG",
        "outputId": "59bb6033-2d19-4a54-a66f-d15611d84d9d"
      },
      "source": [
        "#Check Comment Documentation\n",
        "print(PCA_redux.get_PC.__doc__)"
      ],
      "execution_count": null,
      "outputs": [
        {
          "output_type": "stream",
          "name": "stdout",
          "text": [
            "Principal Components Function that returns eigenvalues and eigenvectors\n"
          ]
        }
      ]
    },
    {
      "cell_type": "code",
      "metadata": {
        "colab": {
          "base_uri": "https://localhost:8080/"
        },
        "id": "Da4d1TSpG2qT",
        "outputId": "092aff9a-0ec5-4dec-8e5d-4fb6393cdd73"
      },
      "source": [
        "#Test Dimensions\n",
        "test.dim()"
      ],
      "execution_count": null,
      "outputs": [
        {
          "output_type": "execute_result",
          "data": {
            "text/plain": [
              "(2215, 10)"
            ]
          },
          "metadata": {},
          "execution_count": 356
        }
      ]
    },
    {
      "cell_type": "code",
      "metadata": {
        "colab": {
          "base_uri": "https://localhost:8080/"
        },
        "id": "WR2hmvVxIlhW",
        "outputId": "8a9fc2e5-8449-4071-caf0-4de7ab17af7f"
      },
      "source": [
        "test.norm_x"
      ],
      "execution_count": null,
      "outputs": [
        {
          "output_type": "execute_result",
          "data": {
            "text/plain": [
              "array([[1.00000000e+00, 0.00000000e+00, 2.70083291e-04, ...,\n",
              "        6.41146521e-02, 1.19270833e-02, 2.55272453e-01],\n",
              "       [1.00000000e+00, 0.00000000e+00, 1.79390006e-03, ...,\n",
              "        8.55034886e-02, 0.00000000e+00, 1.89083031e-01],\n",
              "       [1.00000000e+00, 0.00000000e+00, 2.64462823e-03, ...,\n",
              "        7.84650198e-02, 4.50125000e-02, 1.46262893e-01],\n",
              "       ...,\n",
              "       [1.00000000e+00, 1.00000000e+00, 3.12052183e-03, ...,\n",
              "        6.42560815e-02, 2.74937500e-02, 1.63076343e-01],\n",
              "       [1.00000000e+00, 1.00000000e+00, 4.84372160e-04, ...,\n",
              "        3.03460305e-02, 1.72312500e-02, 1.61070032e-03],\n",
              "       [1.00000000e+00, 1.00000000e+00, 2.58363727e-03, ...,\n",
              "        3.84829342e-02, 2.05708333e-02, 6.43055621e-02]])"
            ]
          },
          "metadata": {},
          "execution_count": 357
        }
      ]
    },
    {
      "cell_type": "code",
      "metadata": {
        "colab": {
          "base_uri": "https://localhost:8080/"
        },
        "id": "4MjHYNXKjQ7e",
        "outputId": "8cd9743a-8b62-4116-c30a-7440c1ac0541"
      },
      "source": [
        "test.get_PC()"
      ],
      "execution_count": null,
      "outputs": [
        {
          "output_type": "execute_result",
          "data": {
            "text/plain": [
              "(array([1.01923240e-01, 4.73485509e-02, 6.67911152e-03, 2.52754911e-03,\n",
              "        1.51733888e-03, 1.35248999e-03, 9.05279546e-04, 2.36605991e-04,\n",
              "        1.23892818e-04, 6.67798096e-07, 0.00000000e+00]),\n",
              " array([[ 0.00000000e+00,  0.00000000e+00,  0.00000000e+00,\n",
              "          0.00000000e+00,  0.00000000e+00,  0.00000000e+00,\n",
              "          0.00000000e+00,  0.00000000e+00,  0.00000000e+00,\n",
              "          0.00000000e+00,  1.00000000e+00],\n",
              "        [ 9.99393540e-01, -3.29359848e-02,  6.59913991e-03,\n",
              "         -5.82190175e-03,  4.90650132e-03, -3.93448853e-03,\n",
              "          3.11541941e-03, -2.07275183e-04, -1.01357571e-03,\n",
              "          1.99691781e-05,  0.00000000e+00],\n",
              "        [-4.02152845e-03, -4.17783705e-03,  6.84163594e-03,\n",
              "         -1.79229398e-01,  6.68352193e-01,  1.19746934e-01,\n",
              "         -3.35081052e-03,  6.72084917e-02, -2.29581229e-02,\n",
              "         -7.08312870e-01,  0.00000000e+00],\n",
              "        [-4.02150622e-03, -2.54473420e-03,  8.21526755e-03,\n",
              "         -1.78868640e-01,  6.71421210e-01,  1.19845974e-01,\n",
              "         -3.64366184e-03,  6.13621977e-02, -2.65029885e-02,\n",
              "          7.05879146e-01,  0.00000000e+00],\n",
              "        [ 1.86306716e-02,  5.15374788e-01,  1.62950512e-01,\n",
              "          5.41090419e-01,  1.49056980e-01,  1.78040754e-01,\n",
              "         -1.39672881e-02, -4.98546773e-01, -3.34712551e-01,\n",
              "         -4.13030280e-03,  0.00000000e+00],\n",
              "        [ 1.84084545e-02,  4.98382216e-01,  1.45404633e-01,\n",
              "          2.83099007e-01,  1.80034738e-02,  1.51177196e-01,\n",
              "         -3.05579754e-02,  5.47448164e-01,  5.71111783e-01,\n",
              "          2.84976181e-03,  0.00000000e+00],\n",
              "        [ 1.31868886e-02,  4.84384596e-01,  5.83186781e-02,\n",
              "         -4.03937623e-01, -1.56608698e-01, -7.49652206e-02,\n",
              "         -9.74476192e-03,  4.26117341e-01, -6.21943711e-01,\n",
              "          3.27192476e-05,  0.00000000e+00],\n",
              "        [ 1.08580356e-02,  4.35330198e-01,  6.00470196e-02,\n",
              "         -6.01535162e-01, -8.21280975e-02, -7.09049120e-02,\n",
              "          8.46967321e-03, -5.11172078e-01,  4.14459508e-01,\n",
              "         -1.29693604e-03,  0.00000000e+00],\n",
              "        [-3.70190752e-04,  1.03409079e-01,  4.15791124e-02,\n",
              "          1.76547832e-01,  2.16922999e-01, -9.49837270e-01,\n",
              "         -7.35449371e-02,  1.31085429e-02,  3.97633772e-02,\n",
              "         -4.70443431e-04,  0.00000000e+00],\n",
              "        [-2.26010688e-03,  3.21553498e-02,  5.93718158e-03,\n",
              "          2.95288208e-02,  2.26369465e-02, -6.22216872e-02,\n",
              "          9.96616679e-01,  1.97030608e-02,  6.05770170e-03,\n",
              "          2.07816309e-04,  0.00000000e+00],\n",
              "        [ 1.40427332e-02,  2.21420558e-01, -9.71275445e-01,\n",
              "          7.66407627e-02,  3.30665329e-02,  4.40580574e-03,\n",
              "         -4.06898948e-03, -6.02932491e-03,  1.89695346e-02,\n",
              "          6.17885352e-04,  0.00000000e+00]]))"
            ]
          },
          "metadata": {},
          "execution_count": 358
        }
      ]
    },
    {
      "cell_type": "code",
      "metadata": {
        "colab": {
          "base_uri": "https://localhost:8080/"
        },
        "id": "tM1j9tmIjOY5",
        "outputId": "d4fa229f-4267-44aa-916e-3db2b90eec58"
      },
      "source": [
        "#Test Invertibility\n",
        "test.invertible()"
      ],
      "execution_count": null,
      "outputs": [
        {
          "output_type": "stream",
          "name": "stdout",
          "text": [
            "det(X'*X) = 0 | Not Invertible\n"
          ]
        }
      ]
    },
    {
      "cell_type": "code",
      "metadata": {
        "colab": {
          "base_uri": "https://localhost:8080/"
        },
        "id": "qtRyv9Ztrc2D",
        "outputId": "f958703a-5bd1-4971-ec3b-a9c469f6e849"
      },
      "source": [
        "#Test Normalization\n",
        "test.normalize_x()"
      ],
      "execution_count": null,
      "outputs": [
        {
          "output_type": "execute_result",
          "data": {
            "text/plain": [
              "array([[0.00000000e+00, 2.70083291e-04, 1.63603896e-03, ...,\n",
              "        6.41146521e-02, 1.19270833e-02, 2.55272453e-01],\n",
              "       [0.00000000e+00, 1.79390006e-03, 3.15777370e-03, ...,\n",
              "        8.55034886e-02, 0.00000000e+00, 1.89083031e-01],\n",
              "       [0.00000000e+00, 2.64462823e-03, 4.00733951e-03, ...,\n",
              "        7.84650198e-02, 4.50125000e-02, 1.46262893e-01],\n",
              "       ...,\n",
              "       [1.00000000e+00, 3.12052183e-03, 4.48258288e-03, ...,\n",
              "        6.42560815e-02, 2.74937500e-02, 1.63076343e-01],\n",
              "       [1.00000000e+00, 4.84372160e-04, 0.00000000e+00, ...,\n",
              "        3.03460305e-02, 1.72312500e-02, 1.61070032e-03],\n",
              "       [1.00000000e+00, 2.58363727e-03, 3.91447586e-03, ...,\n",
              "        3.84829342e-02, 2.05708333e-02, 6.43055621e-02]])"
            ]
          },
          "metadata": {},
          "execution_count": 360
        }
      ]
    },
    {
      "cell_type": "code",
      "metadata": {
        "colab": {
          "base_uri": "https://localhost:8080/"
        },
        "id": "2v8FxwU4v1cd",
        "outputId": "ce5ff239-d31f-4b12-c90a-9aa60eeedf1a"
      },
      "source": [
        "#Return Eigenvectors\n",
        "test.eigvec"
      ],
      "execution_count": null,
      "outputs": [
        {
          "output_type": "execute_result",
          "data": {
            "text/plain": [
              "array([[ 0.00000000e+00,  0.00000000e+00,  0.00000000e+00,\n",
              "         0.00000000e+00,  0.00000000e+00,  0.00000000e+00,\n",
              "         0.00000000e+00,  0.00000000e+00,  0.00000000e+00,\n",
              "         0.00000000e+00,  1.00000000e+00],\n",
              "       [ 9.99393540e-01, -3.29359848e-02,  6.59913991e-03,\n",
              "        -5.82190175e-03,  4.90650132e-03, -3.93448853e-03,\n",
              "         3.11541941e-03, -2.07275183e-04, -1.01357571e-03,\n",
              "         1.99691781e-05,  0.00000000e+00],\n",
              "       [-4.02152845e-03, -4.17783705e-03,  6.84163594e-03,\n",
              "        -1.79229398e-01,  6.68352193e-01,  1.19746934e-01,\n",
              "        -3.35081052e-03,  6.72084917e-02, -2.29581229e-02,\n",
              "        -7.08312870e-01,  0.00000000e+00],\n",
              "       [-4.02150622e-03, -2.54473420e-03,  8.21526755e-03,\n",
              "        -1.78868640e-01,  6.71421210e-01,  1.19845974e-01,\n",
              "        -3.64366184e-03,  6.13621977e-02, -2.65029885e-02,\n",
              "         7.05879146e-01,  0.00000000e+00],\n",
              "       [ 1.86306716e-02,  5.15374788e-01,  1.62950512e-01,\n",
              "         5.41090419e-01,  1.49056980e-01,  1.78040754e-01,\n",
              "        -1.39672881e-02, -4.98546773e-01, -3.34712551e-01,\n",
              "        -4.13030280e-03,  0.00000000e+00],\n",
              "       [ 1.84084545e-02,  4.98382216e-01,  1.45404633e-01,\n",
              "         2.83099007e-01,  1.80034738e-02,  1.51177196e-01,\n",
              "        -3.05579754e-02,  5.47448164e-01,  5.71111783e-01,\n",
              "         2.84976181e-03,  0.00000000e+00],\n",
              "       [ 1.31868886e-02,  4.84384596e-01,  5.83186781e-02,\n",
              "        -4.03937623e-01, -1.56608698e-01, -7.49652206e-02,\n",
              "        -9.74476192e-03,  4.26117341e-01, -6.21943711e-01,\n",
              "         3.27192476e-05,  0.00000000e+00],\n",
              "       [ 1.08580356e-02,  4.35330198e-01,  6.00470196e-02,\n",
              "        -6.01535162e-01, -8.21280975e-02, -7.09049120e-02,\n",
              "         8.46967321e-03, -5.11172078e-01,  4.14459508e-01,\n",
              "        -1.29693604e-03,  0.00000000e+00],\n",
              "       [-3.70190752e-04,  1.03409079e-01,  4.15791124e-02,\n",
              "         1.76547832e-01,  2.16922999e-01, -9.49837270e-01,\n",
              "        -7.35449371e-02,  1.31085429e-02,  3.97633772e-02,\n",
              "        -4.70443431e-04,  0.00000000e+00],\n",
              "       [-2.26010688e-03,  3.21553498e-02,  5.93718158e-03,\n",
              "         2.95288208e-02,  2.26369465e-02, -6.22216872e-02,\n",
              "         9.96616679e-01,  1.97030608e-02,  6.05770170e-03,\n",
              "         2.07816309e-04,  0.00000000e+00],\n",
              "       [ 1.40427332e-02,  2.21420558e-01, -9.71275445e-01,\n",
              "         7.66407627e-02,  3.30665329e-02,  4.40580574e-03,\n",
              "        -4.06898948e-03, -6.02932491e-03,  1.89695346e-02,\n",
              "         6.17885352e-04,  0.00000000e+00]])"
            ]
          },
          "metadata": {},
          "execution_count": 361
        }
      ]
    },
    {
      "cell_type": "code",
      "metadata": {
        "colab": {
          "base_uri": "https://localhost:8080/"
        },
        "id": "_KhRKqVisVzr",
        "outputId": "cc50db7f-a761-4d93-d05b-695f8c89ac11"
      },
      "source": [
        "#Create Projection Matrix with 5 components\n",
        "test.create_projection_matrix(n = 8)"
      ],
      "execution_count": null,
      "outputs": [
        {
          "output_type": "execute_result",
          "data": {
            "text/plain": [
              "array([[ 0.00000000e+00,  0.00000000e+00,  0.00000000e+00,\n",
              "         0.00000000e+00,  0.00000000e+00,  0.00000000e+00,\n",
              "         0.00000000e+00,  0.00000000e+00],\n",
              "       [ 9.99393540e-01, -3.29359848e-02,  6.59913991e-03,\n",
              "        -5.82190175e-03,  4.90650132e-03, -3.93448853e-03,\n",
              "         3.11541941e-03, -2.07275183e-04],\n",
              "       [-4.02152845e-03, -4.17783705e-03,  6.84163594e-03,\n",
              "        -1.79229398e-01,  6.68352193e-01,  1.19746934e-01,\n",
              "        -3.35081052e-03,  6.72084917e-02],\n",
              "       [-4.02150622e-03, -2.54473420e-03,  8.21526755e-03,\n",
              "        -1.78868640e-01,  6.71421210e-01,  1.19845974e-01,\n",
              "        -3.64366184e-03,  6.13621977e-02],\n",
              "       [ 1.86306716e-02,  5.15374788e-01,  1.62950512e-01,\n",
              "         5.41090419e-01,  1.49056980e-01,  1.78040754e-01,\n",
              "        -1.39672881e-02, -4.98546773e-01],\n",
              "       [ 1.84084545e-02,  4.98382216e-01,  1.45404633e-01,\n",
              "         2.83099007e-01,  1.80034738e-02,  1.51177196e-01,\n",
              "        -3.05579754e-02,  5.47448164e-01],\n",
              "       [ 1.31868886e-02,  4.84384596e-01,  5.83186781e-02,\n",
              "        -4.03937623e-01, -1.56608698e-01, -7.49652206e-02,\n",
              "        -9.74476192e-03,  4.26117341e-01],\n",
              "       [ 1.08580356e-02,  4.35330198e-01,  6.00470196e-02,\n",
              "        -6.01535162e-01, -8.21280975e-02, -7.09049120e-02,\n",
              "         8.46967321e-03, -5.11172078e-01],\n",
              "       [-3.70190752e-04,  1.03409079e-01,  4.15791124e-02,\n",
              "         1.76547832e-01,  2.16922999e-01, -9.49837270e-01,\n",
              "        -7.35449371e-02,  1.31085429e-02],\n",
              "       [-2.26010688e-03,  3.21553498e-02,  5.93718158e-03,\n",
              "         2.95288208e-02,  2.26369465e-02, -6.22216872e-02,\n",
              "         9.96616679e-01,  1.97030608e-02],\n",
              "       [ 1.40427332e-02,  2.21420558e-01, -9.71275445e-01,\n",
              "         7.66407627e-02,  3.30665329e-02,  4.40580574e-03,\n",
              "        -4.06898948e-03, -6.02932491e-03]])"
            ]
          },
          "metadata": {},
          "execution_count": 390
        }
      ]
    },
    {
      "cell_type": "code",
      "metadata": {
        "colab": {
          "base_uri": "https://localhost:8080/"
        },
        "id": "__kJ1Uqty21_",
        "outputId": "3b35c497-9f7a-465b-9bf1-c4298f02fc95"
      },
      "source": [
        "test.create_projection_matrix(n = 5).shape"
      ],
      "execution_count": null,
      "outputs": [
        {
          "output_type": "execute_result",
          "data": {
            "text/plain": [
              "(11, 5)"
            ]
          },
          "metadata": {},
          "execution_count": 387
        }
      ]
    },
    {
      "cell_type": "code",
      "metadata": {
        "colab": {
          "base_uri": "https://localhost:8080/"
        },
        "id": "ZjMAz9mKHKm1",
        "outputId": "2cc198e3-1917-4c93-ed8f-96b20b3c0c29"
      },
      "source": [
        "np.dot(test.norm_x,test.create_projection_matrix(n = 8))"
      ],
      "execution_count": null,
      "outputs": [
        {
          "output_type": "execute_result",
          "data": {
            "text/plain": [
              "array([[ 3.39826724e-02,  1.00334281e+00, -2.48729600e-02, ...,\n",
              "         6.45045915e-02, -1.91698404e-02, -1.38792990e-02],\n",
              "       [ 2.12772374e-02,  6.25526683e-01, -4.49313279e-02, ...,\n",
              "        -2.15063033e-03, -2.30302447e-02,  1.24513886e-02],\n",
              "       [ 1.54336487e-02,  4.62618038e-01, -4.18287224e-02, ...,\n",
              "        -2.51992388e-02,  2.72714548e-02,  1.19741477e-02],\n",
              "       ...,\n",
              "       [ 1.01160463e+00,  3.23639838e-01, -7.77461285e-02, ...,\n",
              "        -2.92809228e-02,  1.67438317e-02,  1.86790331e-02],\n",
              "       [ 1.00417391e+00,  1.17773831e-01,  4.19952941e-02, ...,\n",
              "        -1.12060938e-02,  1.40001888e-02, -9.66400618e-03],\n",
              "       [ 1.00777655e+00,  2.22880128e-01, -3.71207459e-04, ...,\n",
              "        -1.44157952e-02,  1.45620873e-02, -2.89188121e-03]])"
            ]
          },
          "metadata": {},
          "execution_count": 389
        }
      ]
    },
    {
      "cell_type": "code",
      "metadata": {
        "colab": {
          "base_uri": "https://localhost:8080/"
        },
        "id": "e6Mb13YaLacd",
        "outputId": "a2ce0545-b517-4dc7-e475-fd48073ba6e0"
      },
      "source": [
        "test.ret_ordered_features()"
      ],
      "execution_count": null,
      "outputs": [
        {
          "output_type": "execute_result",
          "data": {
            "text/plain": [
              "array([ 62.67774285,  91.79475568,  95.90207833,  97.4563958 ,\n",
              "        98.38948403,  99.22119836,  99.77790043,  99.92340139,\n",
              "        99.99958934, 100.        , 100.        ])"
            ]
          },
          "metadata": {},
          "execution_count": 365
        }
      ]
    },
    {
      "cell_type": "code",
      "metadata": {
        "id": "iW6E0ycfQO4w",
        "colab": {
          "base_uri": "https://localhost:8080/"
        },
        "outputId": "4905a302-bf05-41c7-b221-77c1e60311af"
      },
      "source": [
        "test.ret_compare_index(k = 3, thresh = 99)"
      ],
      "execution_count": null,
      "outputs": [
        {
          "output_type": "execute_result",
          "data": {
            "text/plain": [
              "5"
            ]
          },
          "metadata": {},
          "execution_count": 366
        }
      ]
    },
    {
      "cell_type": "code",
      "metadata": {
        "colab": {
          "base_uri": "https://localhost:8080/"
        },
        "id": "OdmwrR15TtD-",
        "outputId": "070d160f-a82e-446f-ff62-b854520b3715"
      },
      "source": [
        "test.run_pca(sel_features = 5, capture_pct = 80)"
      ],
      "execution_count": null,
      "outputs": [
        {
          "output_type": "execute_result",
          "data": {
            "text/plain": [
              "array([[ 3.39826724e-02,  1.00334281e+00, -2.48729600e-02, ...,\n",
              "         2.15417069e-02,  6.45045915e-02, -1.91698404e-02],\n",
              "       [ 2.12772374e-02,  6.25526683e-01, -4.49313279e-02, ...,\n",
              "         2.58352512e-02, -2.15063033e-03, -2.30302447e-02],\n",
              "       [ 1.54336487e-02,  4.62618038e-01, -4.18287224e-02, ...,\n",
              "         1.99296504e-02, -2.51992388e-02,  2.72714548e-02],\n",
              "       ...,\n",
              "       [ 1.01160463e+00,  3.23639838e-01, -7.77461285e-02, ...,\n",
              "         2.16015605e-02, -2.92809228e-02,  1.67438317e-02],\n",
              "       [ 1.00417391e+00,  1.17773831e-01,  4.19952941e-02, ...,\n",
              "         1.52062108e-02, -1.12060938e-02,  1.40001888e-02],\n",
              "       [ 1.00777655e+00,  2.22880128e-01, -3.71207459e-04, ...,\n",
              "         1.46059707e-02, -1.44157952e-02,  1.45620873e-02]])"
            ]
          },
          "metadata": {},
          "execution_count": 388
        }
      ]
    },
    {
      "cell_type": "code",
      "metadata": {
        "colab": {
          "base_uri": "https://localhost:8080/"
        },
        "id": "8hCisE74KtbR",
        "outputId": "92758c92-7285-447f-e402-5b8e34476704"
      },
      "source": [
        "test.run_pca_report(sel_features = 5, capture_pct = 80)"
      ],
      "execution_count": null,
      "outputs": [
        {
          "output_type": "stream",
          "name": "stdout",
          "text": [
            "**************************************************\n",
            "Original Dataset Dimensions: (2215, 10)\n",
            "det(X'*X) = 0 | Not Invertible\n",
            "**************************************************\n",
            "5 features selected. New Matrix= (2215, 5).\n",
            "**************************************************\n"
          ]
        },
        {
          "output_type": "execute_result",
          "data": {
            "text/plain": [
              "array([[ 3.39826724e-02,  1.00334281e+00, -2.48729600e-02,\n",
              "         9.02672919e-02,  2.15417069e-02],\n",
              "       [ 2.12772374e-02,  6.25526683e-01, -4.49313279e-02,\n",
              "         6.82143134e-02,  2.58352512e-02],\n",
              "       [ 1.54336487e-02,  4.62618038e-01, -4.18287224e-02,\n",
              "         2.94578287e-02,  1.99296504e-02],\n",
              "       ...,\n",
              "       [ 1.01160463e+00,  3.23639838e-01, -7.77461285e-02,\n",
              "         1.10774108e-02,  2.16015605e-02],\n",
              "       [ 1.00417391e+00,  1.17773831e-01,  4.19952941e-02,\n",
              "         1.90994772e-02,  1.52062108e-02],\n",
              "       [ 1.00777655e+00,  2.22880128e-01, -3.71207459e-04,\n",
              "        -4.02539454e-03,  1.46059707e-02]])"
            ]
          },
          "metadata": {},
          "execution_count": 368
        }
      ]
    },
    {
      "cell_type": "code",
      "metadata": {
        "colab": {
          "base_uri": "https://localhost:8080/"
        },
        "id": "2ZJGtHHrnMQ4",
        "outputId": "8c076937-6be6-49d2-c2dc-78689ed7ff95"
      },
      "source": [
        "test.create_projection_matrix(n=8)"
      ],
      "execution_count": null,
      "outputs": [
        {
          "output_type": "execute_result",
          "data": {
            "text/plain": [
              "array([[ 0.00000000e+00,  0.00000000e+00,  0.00000000e+00,\n",
              "         0.00000000e+00,  0.00000000e+00,  0.00000000e+00,\n",
              "         0.00000000e+00,  0.00000000e+00],\n",
              "       [ 9.99393540e-01, -3.29359848e-02,  6.59913991e-03,\n",
              "        -5.82190175e-03,  4.90650132e-03, -3.93448853e-03,\n",
              "         3.11541941e-03, -2.07275183e-04],\n",
              "       [-4.02152845e-03, -4.17783705e-03,  6.84163594e-03,\n",
              "        -1.79229398e-01,  6.68352193e-01,  1.19746934e-01,\n",
              "        -3.35081052e-03,  6.72084917e-02],\n",
              "       [-4.02150622e-03, -2.54473420e-03,  8.21526755e-03,\n",
              "        -1.78868640e-01,  6.71421210e-01,  1.19845974e-01,\n",
              "        -3.64366184e-03,  6.13621977e-02],\n",
              "       [ 1.86306716e-02,  5.15374788e-01,  1.62950512e-01,\n",
              "         5.41090419e-01,  1.49056980e-01,  1.78040754e-01,\n",
              "        -1.39672881e-02, -4.98546773e-01],\n",
              "       [ 1.84084545e-02,  4.98382216e-01,  1.45404633e-01,\n",
              "         2.83099007e-01,  1.80034738e-02,  1.51177196e-01,\n",
              "        -3.05579754e-02,  5.47448164e-01],\n",
              "       [ 1.31868886e-02,  4.84384596e-01,  5.83186781e-02,\n",
              "        -4.03937623e-01, -1.56608698e-01, -7.49652206e-02,\n",
              "        -9.74476192e-03,  4.26117341e-01],\n",
              "       [ 1.08580356e-02,  4.35330198e-01,  6.00470196e-02,\n",
              "        -6.01535162e-01, -8.21280975e-02, -7.09049120e-02,\n",
              "         8.46967321e-03, -5.11172078e-01],\n",
              "       [-3.70190752e-04,  1.03409079e-01,  4.15791124e-02,\n",
              "         1.76547832e-01,  2.16922999e-01, -9.49837270e-01,\n",
              "        -7.35449371e-02,  1.31085429e-02],\n",
              "       [-2.26010688e-03,  3.21553498e-02,  5.93718158e-03,\n",
              "         2.95288208e-02,  2.26369465e-02, -6.22216872e-02,\n",
              "         9.96616679e-01,  1.97030608e-02],\n",
              "       [ 1.40427332e-02,  2.21420558e-01, -9.71275445e-01,\n",
              "         7.66407627e-02,  3.30665329e-02,  4.40580574e-03,\n",
              "        -4.06898948e-03, -6.02932491e-03]])"
            ]
          },
          "metadata": {},
          "execution_count": 401
        }
      ]
    },
    {
      "cell_type": "markdown",
      "metadata": {
        "id": "BGs4DO3Ee605"
      },
      "source": [
        "#Comparing Functions\n",
        "Check and compare the two functions with loss to see which had better performance"
      ]
    },
    {
      "cell_type": "code",
      "metadata": {
        "colab": {
          "base_uri": "https://localhost:8080/"
        },
        "id": "zSZk74FPZfQl",
        "outputId": "c39bed73-89fd-4eb1-aa66-a920386f8aee"
      },
      "source": [
        "#Run linear regression for the regular dataset\n",
        "reg_test_obj = linear_reg(arry_ = test_dataset, target_ = test_target)\n",
        "lin_reg = reg_test_obj.run_regression()\n",
        "lin_reg"
      ],
      "execution_count": null,
      "outputs": [
        {
          "output_type": "execute_result",
          "data": {
            "text/plain": [
              "[1.7214490906949278,\n",
              " 0.012209648076662555,\n",
              " -6.93306674019419e-05,\n",
              " 7.086380040075895e-05,\n",
              " -5.546289411882961e-05,\n",
              " 2.3360195429504007e-07,\n",
              " -0.0004182536975333329,\n",
              " 0.000479304132855316,\n",
              " -4.029119613292698e-06,\n",
              " 3.7994084500826437e-06,\n",
              " -3.334642159754129e-06]"
            ]
          },
          "metadata": {},
          "execution_count": 370
        }
      ]
    },
    {
      "cell_type": "code",
      "metadata": {
        "colab": {
          "base_uri": "https://localhost:8080/"
        },
        "id": "MM35r39ceu8S",
        "outputId": "56f7172d-dc6c-44d6-c8e1-fb21bdf0fcd4"
      },
      "source": [
        "#Run linear regression for PCA\n",
        "test = PCA_redux(arry_ = test_dataset)\n",
        "pca_arry = test.run_pca(sel_features = 10, capture_pct = 100)\n",
        "\n",
        "pca_lin_reg = linear_reg(arry_ = pca_arry, target_ = test_target)\n",
        "pca_lin_reg.run_regression()"
      ],
      "execution_count": null,
      "outputs": [
        {
          "output_type": "execute_result",
          "data": {
            "text/plain": [
              "[0.9830694327747489,\n",
              " -0.05532836197509078,\n",
              " -1.1189878149046923,\n",
              " 0.489162714727733,\n",
              " -13.972557820565582,\n",
              " 9.764449280107048,\n",
              " 0.7131380225124877,\n",
              " 2.272209039404468,\n",
              " -24.892760803319533,\n",
              " 27.69931742205023,\n",
              " 725.3744768461158]"
            ]
          },
          "metadata": {},
          "execution_count": 371
        }
      ]
    },
    {
      "cell_type": "code",
      "metadata": {
        "colab": {
          "base_uri": "https://localhost:8080/"
        },
        "id": "WYxQpG3J2HL_",
        "outputId": "33b23162-ef24-4aa6-f47e-91d506f78a48"
      },
      "source": [
        "y_pred_pca"
      ],
      "execution_count": null,
      "outputs": [
        {
          "output_type": "execute_result",
          "data": {
            "text/plain": [
              "[-0.05532836197515211,\n",
              " -1.1189878149046706,\n",
              " 0.48916271472772427,\n",
              " -13.972557820566145,\n",
              " 9.764449280106499]"
            ]
          },
          "metadata": {},
          "execution_count": 391
        }
      ]
    },
    {
      "cell_type": "code",
      "metadata": {
        "colab": {
          "base_uri": "https://localhost:8080/"
        },
        "id": "1631DXZX2Xsx",
        "outputId": "aeed6e43-aa9d-46cf-ec27-8dc2bd970bb1"
      },
      "source": [
        "np.dot(test_dataset, y_pred_reg) + reg_constant"
      ],
      "execution_count": null,
      "outputs": [
        {
          "output_type": "execute_result",
          "data": {
            "text/plain": [
              "array([-0.45521719,  0.23505594,  0.88323892, ...,  1.33124311,\n",
              "        1.00264547,  2.02040253])"
            ]
          },
          "metadata": {},
          "execution_count": 392
        }
      ]
    },
    {
      "cell_type": "markdown",
      "metadata": {
        "id": "kWuLL2wSrFcD"
      },
      "source": [
        "#Full function for comparison"
      ]
    },
    {
      "cell_type": "code",
      "metadata": {
        "colab": {
          "base_uri": "https://localhost:8080/"
        },
        "id": "Rhgj1_XQq_ZF",
        "outputId": "8cef9e45-dcb7-4aea-be7f-206134f13ae9"
      },
      "source": [
        "#Run linear regression for PCA\n",
        "pca_start = PCA_redux(arry_ = test_dataset)\n",
        "pca_arry = pca_start.run_pca(sel_features = 5, capture_pct = 50)\n",
        "\n",
        "pca_lin_reg = linear_reg(arry_ = pca_arry, target_ = test_target)\n",
        "pca_lin_reg.run_regression()\n",
        "\n",
        "#Use a loss function to compare the values here\n",
        "# MSE = sum of expected - observed squared divided by length of data(avg)\n",
        "y_pred_reg = reg_test_obj.run_regression()[1:]\n",
        "reg_constant = reg_test_obj.run_regression()[0]\n",
        "\n",
        "y_pred_pca = pca_lin_reg.run_regression()[1:]\n",
        "pca_constant = pca_lin_reg.run_regression()[0]\n",
        "\n",
        "lin_loss = round((1/len(test_dataset))* (np.sum((test_target - (np.dot(test_dataset, y_pred_reg)) + reg_constant)) ** 2),10)\n",
        "pca_loss = round((1/len(test_dataset))* (np.sum((test_target- (np.dot(pca_arry, y_pred_pca)) + pca_constant)) ** 2),10)\n",
        "\n",
        "#Returns whichever model performed better here.\n",
        "if abs(lin_loss) < pca_loss:\n",
        "    print(f\"Linear ({lin_loss}) is better than PCA ({pca_loss})\")\n",
        "elif abs(lin_loss) == pca_loss:\n",
        "    print(f\"Performance of Linear ({lin_loss}) == PCA ({pca_loss})\") \n",
        "else:\n",
        "    print(f\"PCA ({pca_loss}) is better than Linear ({lin_loss})\")\n",
        "\n",
        "(pca_loss - lin_loss) / pca_loss"
      ],
      "execution_count": null,
      "outputs": [
        {
          "output_type": "stream",
          "name": "stdout",
          "text": [
            "PCA (21722.0025691491) is better than Linear (26255.6085706306)\n"
          ]
        },
        {
          "output_type": "execute_result",
          "data": {
            "text/plain": [
              "-0.208710315130908"
            ]
          },
          "metadata": {},
          "execution_count": 395
        }
      ]
    },
    {
      "cell_type": "code",
      "metadata": {
        "colab": {
          "base_uri": "https://localhost:8080/"
        },
        "id": "rBnfdyhTriFm",
        "outputId": "10de5b49-c836-4827-d66d-928fc6d471d9"
      },
      "source": [
        "(1/len(test_dataset)* (np.sum((test_target - (np.dot(test_dataset, y_pred_reg)) + reg_constant)) ** 2),10)"
      ],
      "execution_count": null,
      "outputs": [
        {
          "output_type": "execute_result",
          "data": {
            "text/plain": [
              "(26255.608570630644, 10)"
            ]
          },
          "metadata": {},
          "execution_count": 374
        }
      ]
    },
    {
      "cell_type": "code",
      "metadata": {
        "colab": {
          "base_uri": "https://localhost:8080/"
        },
        "id": "3Sni9lAVoIxG",
        "outputId": "d3cb61fc-b913-4a19-8ec2-1eed1a01fa39"
      },
      "source": [
        "pca_lin_reg.run_regression()[0]"
      ],
      "execution_count": null,
      "outputs": [
        {
          "output_type": "execute_result",
          "data": {
            "text/plain": [
              "1.5657883931837708"
            ]
          },
          "metadata": {},
          "execution_count": 375
        }
      ]
    },
    {
      "cell_type": "code",
      "metadata": {
        "id": "Nsp7z8p0nrOS"
      },
      "source": [
        "y_pred_pca = pca_lin_reg.run_regression()[1::]\n",
        "constant = pca_lin_reg.run_regression()[0]"
      ],
      "execution_count": null,
      "outputs": []
    },
    {
      "cell_type": "code",
      "metadata": {
        "colab": {
          "base_uri": "https://localhost:8080/"
        },
        "id": "xo6IXhS3nLkX",
        "outputId": "f10838bc-c630-4773-a498-7794579b96cb"
      },
      "source": [
        "np.dot(test_dataset, reg_test_obj.run_regression()[1:])"
      ],
      "execution_count": null,
      "outputs": [
        {
          "output_type": "execute_result",
          "data": {
            "text/plain": [
              "array([-2.17666628, -1.48639315, -0.83821017, ..., -0.39020598,\n",
              "       -0.71880362,  0.29895344])"
            ]
          },
          "metadata": {},
          "execution_count": 377
        }
      ]
    },
    {
      "cell_type": "code",
      "metadata": {
        "colab": {
          "base_uri": "https://localhost:8080/"
        },
        "id": "59LKRg37nYuk",
        "outputId": "0100ccbd-bb7a-4cd0-bd87-75f060b97a54"
      },
      "source": [
        "np.dot(pca_arry, pca_lin_reg.run_regression()[1:]) + pca_lin_reg.run_regression()[0]"
      ],
      "execution_count": null,
      "outputs": [
        {
          "output_type": "execute_result",
          "data": {
            "text/plain": [
              "array([-0.62190916,  0.14181425,  0.80981032, ...,  1.165786  ,\n",
              "        1.28059587,  1.45931236])"
            ]
          },
          "metadata": {},
          "execution_count": 378
        }
      ]
    },
    {
      "cell_type": "markdown",
      "metadata": {
        "id": "CKRtIhv1XxaN"
      },
      "source": [
        "#Test Minmax Scaler and PCA"
      ]
    },
    {
      "cell_type": "code",
      "metadata": {
        "colab": {
          "base_uri": "https://localhost:8080/"
        },
        "id": "YJtlT1-aFN1m",
        "outputId": "01e2f4dd-89d7-48a1-9cfb-04a3141f2a8c"
      },
      "source": [
        "import sklearn\n",
        "from sklearn.preprocessing import MinMaxScaler\n",
        "scaler = MinMaxScaler()\n",
        "scaler.fit(test_dataset)\n",
        "scaler.transform(test_dataset)"
      ],
      "execution_count": null,
      "outputs": [
        {
          "output_type": "execute_result",
          "data": {
            "text/plain": [
              "array([[0.00000000e+00, 2.70083291e-04, 1.63603896e-03, ...,\n",
              "        6.41146521e-02, 1.19270833e-02, 2.55272453e-01],\n",
              "       [0.00000000e+00, 1.79390006e-03, 3.15777370e-03, ...,\n",
              "        8.55034886e-02, 0.00000000e+00, 1.89083031e-01],\n",
              "       [0.00000000e+00, 2.64462823e-03, 4.00733951e-03, ...,\n",
              "        7.84650198e-02, 4.50125000e-02, 1.46262893e-01],\n",
              "       ...,\n",
              "       [1.00000000e+00, 3.12052183e-03, 4.48258288e-03, ...,\n",
              "        6.42560815e-02, 2.74937500e-02, 1.63076343e-01],\n",
              "       [1.00000000e+00, 4.84372160e-04, 0.00000000e+00, ...,\n",
              "        3.03460305e-02, 1.72312500e-02, 1.61070032e-03],\n",
              "       [1.00000000e+00, 2.58363727e-03, 3.91447586e-03, ...,\n",
              "        3.84829342e-02, 2.05708333e-02, 6.43055621e-02]])"
            ]
          },
          "metadata": {},
          "execution_count": 379
        }
      ]
    },
    {
      "cell_type": "code",
      "metadata": {
        "id": "C32S__jFpnvn",
        "colab": {
          "base_uri": "https://localhost:8080/"
        },
        "outputId": "ef0f6dac-37b6-42e2-ec1d-4dd5a52ec04d"
      },
      "source": [
        "import numpy as np\n",
        "from sklearn.decomposition import PCA\n",
        "X = test_dataset\n",
        "pca = PCA(n_components=8)\n",
        "pca.fit(X)"
      ],
      "execution_count": null,
      "outputs": [
        {
          "output_type": "execute_result",
          "data": {
            "text/plain": [
              "PCA(n_components=10)"
            ]
          },
          "metadata": {},
          "execution_count": 380
        }
      ]
    },
    {
      "cell_type": "code",
      "metadata": {
        "id": "i2ssKJjMPvLB",
        "colab": {
          "base_uri": "https://localhost:8080/"
        },
        "outputId": "15467253-3d01-41b3-f629-64fb2ff17e3b"
      },
      "source": [
        "from sklearn.preprocessing import minmax_scale\n",
        "x_std = MinMaxScaler().fit_transform(test_dataset)\n",
        "pca = PCA(n_components=8)\n",
        "pca.fit_transform(x_std)"
      ],
      "execution_count": null,
      "outputs": [
        {
          "output_type": "execute_result",
          "data": {
            "text/plain": [
              "array([[-0.4793861 ,  0.59420054, -0.00963761, ..., -0.06990237,\n",
              "        -0.03122167,  0.01767663],\n",
              "       [-0.49209153,  0.21638442,  0.01042076, ..., -0.00324714,\n",
              "        -0.03508208, -0.00865405],\n",
              "       [-0.49793512,  0.05347578,  0.00731815, ...,  0.01980147,\n",
              "         0.01521962, -0.00817681],\n",
              "       ...,\n",
              "       [ 0.49823586, -0.08550242,  0.04323556, ...,  0.02388315,\n",
              "         0.004692  , -0.0148817 ],\n",
              "       [ 0.49080514, -0.29136843, -0.07650586, ...,  0.00580832,\n",
              "         0.00194836,  0.01346134],\n",
              "       [ 0.49440778, -0.18626213, -0.03413936, ...,  0.00901802,\n",
              "         0.00251026,  0.00668921]])"
            ]
          },
          "metadata": {},
          "execution_count": 406
        }
      ]
    },
    {
      "cell_type": "code",
      "metadata": {
        "colab": {
          "base_uri": "https://localhost:8080/"
        },
        "id": "WYgfrsnBY1kJ",
        "outputId": "cc8b6737-111c-4794-e97e-1d55d4788dca"
      },
      "source": [
        "from sklearn.preprocessing import minmax_scale\n",
        "x_std = MinMaxScaler().fit_transform(test_dataset)\n",
        "pca = PCA(n_components=8)\n",
        "pca.fit_transform(x_std)"
      ],
      "execution_count": null,
      "outputs": [
        {
          "output_type": "execute_result",
          "data": {
            "text/plain": [
              "array([[0.00000000e+00, 2.70083291e-04, 1.63603896e-03, ...,\n",
              "        6.41146521e-02, 1.19270833e-02, 2.55272453e-01],\n",
              "       [0.00000000e+00, 1.79390006e-03, 3.15777370e-03, ...,\n",
              "        8.55034886e-02, 0.00000000e+00, 1.89083031e-01],\n",
              "       [0.00000000e+00, 2.64462823e-03, 4.00733951e-03, ...,\n",
              "        7.84650198e-02, 4.50125000e-02, 1.46262893e-01],\n",
              "       ...,\n",
              "       [1.00000000e+00, 3.12052183e-03, 4.48258288e-03, ...,\n",
              "        6.42560815e-02, 2.74937500e-02, 1.63076343e-01],\n",
              "       [1.00000000e+00, 4.84372160e-04, 0.00000000e+00, ...,\n",
              "        3.03460305e-02, 1.72312500e-02, 1.61070032e-03],\n",
              "       [1.00000000e+00, 2.58363727e-03, 3.91447586e-03, ...,\n",
              "        3.84829342e-02, 2.05708333e-02, 6.43055621e-02]])"
            ]
          },
          "metadata": {},
          "execution_count": 382
        }
      ]
    },
    {
      "cell_type": "code",
      "metadata": {
        "colab": {
          "base_uri": "https://localhost:8080/"
        },
        "id": "W8zBWujUY2zz",
        "outputId": "740a0745-dc52-4635-a401-0edc9f31d40f"
      },
      "source": [
        "test.normalize_x()"
      ],
      "execution_count": null,
      "outputs": [
        {
          "output_type": "execute_result",
          "data": {
            "text/plain": [
              "array([[0.00000000e+00, 2.70083291e-04, 1.63603896e-03, ...,\n",
              "        6.41146521e-02, 1.19270833e-02, 2.55272453e-01],\n",
              "       [0.00000000e+00, 1.79390006e-03, 3.15777370e-03, ...,\n",
              "        8.55034886e-02, 0.00000000e+00, 1.89083031e-01],\n",
              "       [0.00000000e+00, 2.64462823e-03, 4.00733951e-03, ...,\n",
              "        7.84650198e-02, 4.50125000e-02, 1.46262893e-01],\n",
              "       ...,\n",
              "       [1.00000000e+00, 3.12052183e-03, 4.48258288e-03, ...,\n",
              "        6.42560815e-02, 2.74937500e-02, 1.63076343e-01],\n",
              "       [1.00000000e+00, 4.84372160e-04, 0.00000000e+00, ...,\n",
              "        3.03460305e-02, 1.72312500e-02, 1.61070032e-03],\n",
              "       [1.00000000e+00, 2.58363727e-03, 3.91447586e-03, ...,\n",
              "        3.84829342e-02, 2.05708333e-02, 6.43055621e-02]])"
            ]
          },
          "metadata": {},
          "execution_count": 383
        }
      ]
    },
    {
      "cell_type": "code",
      "metadata": {
        "colab": {
          "base_uri": "https://localhost:8080/"
        },
        "id": "DVWq1qZ6Ymwx",
        "outputId": "c7c78ef9-d81c-4bc6-f6b9-0b4a4c1d53a1"
      },
      "source": [
        "x_std == test.normalize_x()"
      ],
      "execution_count": null,
      "outputs": [
        {
          "output_type": "execute_result",
          "data": {
            "text/plain": [
              "array([[ True, False,  True, ..., False, False,  True],\n",
              "       [ True, False, False, ..., False,  True,  True],\n",
              "       [ True, False,  True, ..., False, False,  True],\n",
              "       ...,\n",
              "       [ True,  True, False, ...,  True,  True,  True],\n",
              "       [ True,  True,  True, ..., False,  True,  True],\n",
              "       [ True,  True, False, ..., False,  True,  True]])"
            ]
          },
          "metadata": {},
          "execution_count": 384
        }
      ]
    },
    {
      "cell_type": "code",
      "metadata": {
        "id": "x94fosVLNsRk",
        "colab": {
          "base_uri": "https://localhost:8080/"
        },
        "outputId": "c93aa566-2045-45e2-ef2f-ba8df65cd628"
      },
      "source": [
        "comp = pca.components_\n",
        "comp"
      ],
      "execution_count": null,
      "outputs": [
        {
          "output_type": "execute_result",
          "data": {
            "text/plain": [
              "array([[ 9.99393540e-01, -4.02152845e-03, -4.02150622e-03,\n",
              "         1.86306716e-02,  1.84084545e-02,  1.31868886e-02,\n",
              "         1.08580356e-02, -3.70190752e-04, -2.26010688e-03,\n",
              "         1.40427332e-02],\n",
              "       [-3.29359848e-02, -4.17783705e-03, -2.54473420e-03,\n",
              "         5.15374788e-01,  4.98382216e-01,  4.84384596e-01,\n",
              "         4.35330198e-01,  1.03409079e-01,  3.21553498e-02,\n",
              "         2.21420558e-01],\n",
              "       [-6.59913991e-03, -6.84163594e-03, -8.21526755e-03,\n",
              "        -1.62950512e-01, -1.45404633e-01, -5.83186781e-02,\n",
              "        -6.00470196e-02, -4.15791124e-02, -5.93718158e-03,\n",
              "         9.71275445e-01],\n",
              "       [ 5.82190175e-03,  1.79229398e-01,  1.78868640e-01,\n",
              "        -5.41090419e-01, -2.83099007e-01,  4.03937623e-01,\n",
              "         6.01535162e-01, -1.76547832e-01, -2.95288208e-02,\n",
              "        -7.66407627e-02],\n",
              "       [ 4.90650132e-03,  6.68352193e-01,  6.71421210e-01,\n",
              "         1.49056980e-01,  1.80034738e-02, -1.56608698e-01,\n",
              "        -8.21280975e-02,  2.16922999e-01,  2.26369465e-02,\n",
              "         3.30665329e-02]])"
            ]
          },
          "metadata": {},
          "execution_count": 385
        }
      ]
    }
  ]
}