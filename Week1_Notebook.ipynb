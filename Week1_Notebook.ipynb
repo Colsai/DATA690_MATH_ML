{
  "nbformat": 4,
  "nbformat_minor": 0,
  "metadata": {
    "colab": {
      "name": "MATH_C1.ipynb",
      "provenance": [],
      "collapsed_sections": [],
      "authorship_tag": "ABX9TyM60ciR83b0eDiZQXg0Phyh",
      "include_colab_link": true
    },
    "kernelspec": {
      "name": "python3",
      "display_name": "Python 3"
    },
    "language_info": {
      "name": "python"
    }
  },
  "cells": [
    {
      "cell_type": "markdown",
      "metadata": {
        "id": "view-in-github",
        "colab_type": "text"
      },
      "source": [
        "<a href=\"https://colab.research.google.com/github/Colsai/DATA690_MATH_ML/blob/main/Week1_Notebook.ipynb\" target=\"_parent\"><img src=\"https://colab.research.google.com/assets/colab-badge.svg\" alt=\"Open In Colab\"/></a>"
      ]
    },
    {
      "cell_type": "code",
      "metadata": {
        "id": "JmCf4I_8rFZs"
      },
      "source": [
        "#Numpy as NP\n",
        "import numpy as np"
      ],
      "execution_count": 1,
      "outputs": []
    },
    {
      "cell_type": "code",
      "metadata": {
        "colab": {
          "base_uri": "https://localhost:8080/"
        },
        "id": "G1XRIrJD1JL-",
        "outputId": "b4dabbb6-9489-4201-93cc-174fbb5f53c1"
      },
      "source": [
        "a = np.array([[1, 2, 3], [4, 5, 6]])\n",
        "np.sum(a, axis = 0)\n",
        "\n",
        "#Adds the cols"
      ],
      "execution_count": 2,
      "outputs": [
        {
          "output_type": "execute_result",
          "data": {
            "text/plain": [
              "array([5, 7, 9])"
            ]
          },
          "metadata": {},
          "execution_count": 2
        }
      ]
    },
    {
      "cell_type": "code",
      "metadata": {
        "id": "Dr5CUCb8863J"
      },
      "source": [
        "a = np.array([[-5, 7, 9], [10, 11, 0], [1, -1, 2]])\n",
        "b = np.array([1,1,1]).T"
      ],
      "execution_count": 7,
      "outputs": []
    },
    {
      "cell_type": "code",
      "metadata": {
        "colab": {
          "base_uri": "https://localhost:8080/"
        },
        "id": "CLfN-ZPx9G-z",
        "outputId": "9c6af5b7-4a2c-49ec-9723-d66ae884038d"
      },
      "source": [
        "#a dot b\n",
        "a.dot(b)"
      ],
      "execution_count": 9,
      "outputs": [
        {
          "output_type": "execute_result",
          "data": {
            "text/plain": [
              "array([11, 21,  2])"
            ]
          },
          "metadata": {},
          "execution_count": 9
        }
      ]
    },
    {
      "cell_type": "code",
      "metadata": {
        "colab": {
          "base_uri": "https://localhost:8080/"
        },
        "id": "9ZIs05Re9PVi",
        "outputId": "afc0bb3d-619b-4836-ca3a-fbe11bd36b2d"
      },
      "source": [
        "np.array([1,1,1]).T == np.array([[1],[1],[1]])"
      ],
      "execution_count": 11,
      "outputs": [
        {
          "output_type": "execute_result",
          "data": {
            "text/plain": [
              "array([[ True,  True,  True],\n",
              "       [ True,  True,  True],\n",
              "       [ True,  True,  True]])"
            ]
          },
          "metadata": {},
          "execution_count": 11
        }
      ]
    }
  ]
}